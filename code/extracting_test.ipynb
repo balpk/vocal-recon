{
 "cells": [
  {
   "cell_type": "markdown",
   "metadata": {},
   "source": [
    "# Data Preprocessing Test\n",
    "\n",
    "Used in the beginning by B.A.K. to inspect the data, optimize the moving window RMS window size, the silence threshold, and the plotting parameters.\n",
    "\n",
    "Can generate one sequence filled with only non-silence from one recording.\n",
    "\n",
    "Notes:\n",
    "\n",
    "The silence threshold defined here is higher than the one used in the actual generation, since optimizations inbetween allowed us to use higher thresholds without losing data.\n",
    "\n",
    "Very memory inefficient."
   ]
  },
  {
   "cell_type": "code",
   "execution_count": 1,
   "metadata": {},
   "outputs": [],
   "source": [
    "import sounddevice as sd\n",
    "import soundfile as sf\n",
    "import soundfile as sf\n",
    "from scipy import signal \n",
    "import numpy as np\n",
    "import matplotlib.pyplot as plt\n",
    "import pandas as pd"
   ]
  },
  {
   "cell_type": "code",
   "execution_count": 2,
   "metadata": {},
   "outputs": [],
   "source": [
    "def getIndex(samplerate, seconds=0, minutes=0, hours=0):\n",
    "    return samplerate*(seconds + minutes*60 + hours*3600)"
   ]
  },
  {
   "cell_type": "code",
   "execution_count": 3,
   "metadata": {},
   "outputs": [],
   "source": [
    "def getTime(samplerate, index):\n",
    "    s_idx = index / samplerate\n",
    "    hours = s_idx // 3600\n",
    "    minutes = (s_idx - hours*3600) // 60\n",
    "    seconds = (s_idx - hours*3600 - minutes * 60)\n",
    "    return [hours, minutes, seconds]"
   ]
  },
  {
   "cell_type": "code",
   "execution_count": 4,
   "metadata": {},
   "outputs": [
    {
     "name": "stdout",
     "output_type": "stream",
     "text": [
      "224\n"
     ]
    }
   ],
   "source": [
    "# Load the data\n",
    "\n",
    "fs = 24000\n",
    "window_size = 256\n",
    "overlap = 0.875\n",
    "noverlap = int(np.floor(window_size * overlap))\n",
    "print(noverlap)\n",
    "\n",
    "file_num = 11\n",
    "\n",
    "filenm = f'/home/bukaya/ethz/ns/b8p2male-b10o15female_aligned/2018-08-14/b8p2male-b10o15female_{file_num}_SdrChannels.w64'\n",
    "strength_filenm = f'/home/bukaya/ethz/ns/b8p2male-b10o15female_aligned/2018-08-14/b8p2male-b10o15female_{file_num}_SdrChannels.w64'"
   ]
  },
  {
   "cell_type": "code",
   "execution_count": 5,
   "metadata": {},
   "outputs": [],
   "source": [
    "with open(filenm, 'rb') as f:  \n",
    "    Audiodata, _samplerate_bad = sf.read(f)\n",
    "    \n",
    "mic  = Audiodata[:, 0]\n",
    "acc_m = Audiodata[:, 1]\n",
    "acc_f = Audiodata[:, 2]"
   ]
  },
  {
   "cell_type": "code",
   "execution_count": 6,
   "metadata": {},
   "outputs": [],
   "source": [
    "# Apply Bandpass filter\n",
    "\n",
    "sos = signal.butter(10, [15, 8000], 'bp', fs=24000, output='sos')\n",
    "filtered_bp = signal.sosfilt(sos, mic)\n",
    "#sf.write('/home/bukaya/ethz/ns/vocal-recon/mic11_butterworth_bp_10_15_8000.w64', filtered_bp, fs)"
   ]
  },
  {
   "cell_type": "code",
   "execution_count": 7,
   "metadata": {},
   "outputs": [],
   "source": [
    "# Take moving window RMS\n",
    "\n",
    "window = 2400\n",
    "abs_fil = np.absolute(filtered_bp)\n",
    "mean_pd_abs = pd.Series(abs_fil).rolling(window=window).mean().iloc[window-1:].values\n",
    "#plt.plot(mean_pd_abs)"
   ]
  },
  {
   "cell_type": "code",
   "execution_count": 8,
   "metadata": {},
   "outputs": [
    {
     "name": "stdout",
     "output_type": "stream",
     "text": [
      "63602401\n"
     ]
    },
    {
     "data": {
      "text/plain": [
       "\"sf.write(f'/home/bukaya/ethz/ns/vocal-recon/{file_num}_short_{window}_mic.w64', mic_bp_np, fs)\\nsf.write(f'/home/bukaya/ethz/ns/vocal-recon/{file_num}_short_{window}_acc_m.w64', acc_m_np, fs)\\nsf.write(f'/home/bukaya/ethz/ns/vocal-recon/{file_num}_short_{window}_acc_f.w64', acc_f_np, fs)\""
      ]
     },
     "execution_count": 8,
     "metadata": {},
     "output_type": "execute_result"
    }
   ],
   "source": [
    "# Extract non-silence from all channels\n",
    "\n",
    "counter = 0\n",
    "\n",
    "mic_bp_sht = []\n",
    "acc_m_sht = []\n",
    "acc_f_sht = []\n",
    "\n",
    "for i, j in enumerate(mean_pd_abs):\n",
    "    if j >= 0.001:\n",
    "        mic_bp_sht.append(filtered_bp[i + window//2])\n",
    "        acc_m_sht.append(acc_m[i + window//2])\n",
    "        acc_f_sht.append(acc_f[i + window//2])\n",
    "        counter += 1\n",
    "        \n",
    "print(counter)\n",
    "mic_bp_np = np.asarray(mic_bp_sht)\n",
    "acc_m_np = np.asarray(acc_m_sht)\n",
    "acc_f_np = np.asarray(acc_f_sht)\n",
    "'''sf.write(f'/home/bukaya/ethz/ns/vocal-recon/{file_num}_short_{window}_mic.w64', mic_bp_np, fs)\n",
    "sf.write(f'/home/bukaya/ethz/ns/vocal-recon/{file_num}_short_{window}_acc_m.w64', acc_m_np, fs)\n",
    "sf.write(f'/home/bukaya/ethz/ns/vocal-recon/{file_num}_short_{window}_acc_f.w64', acc_f_np, fs)'''"
   ]
  },
  {
   "cell_type": "code",
   "execution_count": null,
   "metadata": {},
   "outputs": [],
   "source": [
    "# Plot the spectogram of a slice of data\n",
    "\n",
    "window_size = 240\n",
    "slc = slice(0, 96000)\n",
    "#slc = slice(8*fs,10*fs)\n",
    "print(mic_bp_np.shape)\n",
    "\n",
    "\n",
    "plt.rcParams[\"figure.figsize\"] = [10,8]\n",
    "\n",
    "f_mic, t_mic, Sxx_mic = signal.spectrogram(mic_bp_np[slc], fs , window=signal.hann(window_size, sym=False) , #window=signal.blackman(self.window_size),\n",
    "                                nfft=window_size, noverlap=noverlap, scaling=\"spectrum\")\n",
    "fig, axs = plt.subplots(3, 1, sharex=True)\n",
    "\n",
    "axs[0].pcolormesh(t_mic, f_mic[:81], np.log10(0.00000001 + Sxx_mic[:81,:]))\n",
    "\n",
    "f_acc_f, t_acc_f, Sxx_acc_f = signal.spectrogram(acc_f_np[slc], fs , window=signal.hann(window_size, sym=False) , #window=signal.blackman(self.window_size),\n",
    "                                nfft=window_size, noverlap=noverlap, scaling=\"spectrum\")\n",
    "axs[2].pcolormesh(t_acc_f, f_acc_f[:81], np.log10(0.00000001 + Sxx_acc_f[:81,:]))\n",
    "\n",
    "f_acc_m, t_acc_m, Sxx_acc_m = signal.spectrogram(acc_m_np[slc], fs , window=signal.hann(window_size, sym=False) , #window=signal.blackman(self.window_size),\n",
    "                                nfft=window_size, noverlap=noverlap, scaling=\"spectrum\")\n",
    "axs[1].pcolormesh(t_acc_m, f_acc_m[:81], np.log10(0.00000001 + Sxx_acc_m[:81,:]))\n",
    "\n",
    "\n",
    "axs[0].set_ylabel('mic')\n",
    "axs[1].set_ylabel('acc_m')\n",
    "axs[2].set_ylabel('acc_f')\n",
    "\n",
    "\n",
    "plt.xlabel('Time (s)')\n",
    "\n",
    "axs[1].set_ylabel('Frequency (Hz)\\nacc_m')\n",
    "\n",
    "fig.suptitle(f'Recording 11 Silence removed')\n",
    "\n",
    "plt.savefig('nonsilence.png',bbox_inches='tight' )"
   ]
  },
  {
   "cell_type": "code",
   "execution_count": 74,
   "metadata": {},
   "outputs": [
    {
     "data": {
      "text/plain": [
       "array([    0.,   100.,   200.,   300.,   400.,   500.,   600.,   700.,\n",
       "         800.,   900.,  1000.,  1100.,  1200.,  1300.,  1400.,  1500.,\n",
       "        1600.,  1700.,  1800.,  1900.,  2000.,  2100.,  2200.,  2300.,\n",
       "        2400.,  2500.,  2600.,  2700.,  2800.,  2900.,  3000.,  3100.,\n",
       "        3200.,  3300.,  3400.,  3500.,  3600.,  3700.,  3800.,  3900.,\n",
       "        4000.,  4100.,  4200.,  4300.,  4400.,  4500.,  4600.,  4700.,\n",
       "        4800.,  4900.,  5000.,  5100.,  5200.,  5300.,  5400.,  5500.,\n",
       "        5600.,  5700.,  5800.,  5900.,  6000.,  6100.,  6200.,  6300.,\n",
       "        6400.,  6500.,  6600.,  6700.,  6800.,  6900.,  7000.,  7100.,\n",
       "        7200.,  7300.,  7400.,  7500.,  7600.,  7700.,  7800.,  7900.,\n",
       "        8000.,  8100.,  8200.,  8300.,  8400.,  8500.,  8600.,  8700.,\n",
       "        8800.,  8900.,  9000.,  9100.,  9200.,  9300.,  9400.,  9500.,\n",
       "        9600.,  9700.,  9800.,  9900., 10000., 10100., 10200., 10300.,\n",
       "       10400., 10500., 10600., 10700., 10800., 10900., 11000., 11100.,\n",
       "       11200., 11300., 11400., 11500., 11600., 11700., 11800., 11900.,\n",
       "       12000.])"
      ]
     },
     "execution_count": 74,
     "metadata": {},
     "output_type": "execute_result"
    }
   ],
   "source": [
    "f_mic"
   ]
  },
  {
   "cell_type": "code",
   "execution_count": 75,
   "metadata": {},
   "outputs": [
    {
     "data": {
      "text/plain": [
       "array([0.005     , 0.00566667, 0.00633333, 0.007     , 0.00766667,\n",
       "       0.00833333, 0.009     , 0.00966667, 0.01033333, 0.011     ,\n",
       "       0.01166667, 0.01233333, 0.013     , 0.01366667, 0.01433333,\n",
       "       0.015     , 0.01566667, 0.01633333, 0.017     , 0.01766667,\n",
       "       0.01833333, 0.019     , 0.01966667, 0.02033333, 0.021     ,\n",
       "       0.02166667, 0.02233333, 0.023     , 0.02366667, 0.02433333,\n",
       "       0.025     , 0.02566667, 0.02633333, 0.027     , 0.02766667,\n",
       "       0.02833333, 0.029     , 0.02966667, 0.03033333, 0.031     ,\n",
       "       0.03166667, 0.03233333, 0.033     , 0.03366667, 0.03433333,\n",
       "       0.035     , 0.03566667, 0.03633333, 0.037     , 0.03766667,\n",
       "       0.03833333, 0.039     , 0.03966667, 0.04033333, 0.041     ,\n",
       "       0.04166667, 0.04233333, 0.043     , 0.04366667, 0.04433333,\n",
       "       0.045     , 0.04566667, 0.04633333, 0.047     , 0.04766667,\n",
       "       0.04833333, 0.049     , 0.04966667, 0.05033333, 0.051     ,\n",
       "       0.05166667, 0.05233333, 0.053     , 0.05366667, 0.05433333,\n",
       "       0.055     , 0.05566667, 0.05633333, 0.057     , 0.05766667,\n",
       "       0.05833333, 0.059     , 0.05966667, 0.06033333, 0.061     ,\n",
       "       0.06166667, 0.06233333, 0.063     , 0.06366667, 0.06433333,\n",
       "       0.065     , 0.06566667, 0.06633333, 0.067     , 0.06766667,\n",
       "       0.06833333, 0.069     , 0.06966667, 0.07033333, 0.071     ,\n",
       "       0.07166667, 0.07233333, 0.073     , 0.07366667, 0.07433333,\n",
       "       0.075     , 0.07566667, 0.07633333, 0.077     , 0.07766667,\n",
       "       0.07833333, 0.079     , 0.07966667, 0.08033333, 0.081     ,\n",
       "       0.08166667, 0.08233333, 0.083     , 0.08366667, 0.08433333,\n",
       "       0.085     , 0.08566667, 0.08633333, 0.087     , 0.08766667,\n",
       "       0.08833333, 0.089     , 0.08966667, 0.09033333, 0.091     ,\n",
       "       0.09166667, 0.09233333, 0.093     , 0.09366667, 0.09433333,\n",
       "       0.095     , 0.09566667, 0.09633333, 0.097     , 0.09766667,\n",
       "       0.09833333, 0.099     , 0.09966667, 0.10033333, 0.101     ,\n",
       "       0.10166667, 0.10233333, 0.103     , 0.10366667, 0.10433333,\n",
       "       0.105     , 0.10566667, 0.10633333, 0.107     , 0.10766667,\n",
       "       0.10833333, 0.109     , 0.10966667, 0.11033333, 0.111     ,\n",
       "       0.11166667, 0.11233333, 0.113     , 0.11366667, 0.11433333,\n",
       "       0.115     , 0.11566667, 0.11633333, 0.117     , 0.11766667,\n",
       "       0.11833333, 0.119     , 0.11966667, 0.12033333, 0.121     ,\n",
       "       0.12166667, 0.12233333, 0.123     , 0.12366667, 0.12433333,\n",
       "       0.125     , 0.12566667, 0.12633333, 0.127     , 0.12766667,\n",
       "       0.12833333, 0.129     , 0.12966667, 0.13033333, 0.131     ,\n",
       "       0.13166667, 0.13233333, 0.133     , 0.13366667, 0.13433333,\n",
       "       0.135     , 0.13566667, 0.13633333, 0.137     , 0.13766667,\n",
       "       0.13833333, 0.139     , 0.13966667, 0.14033333, 0.141     ,\n",
       "       0.14166667, 0.14233333, 0.143     , 0.14366667, 0.14433333,\n",
       "       0.145     , 0.14566667, 0.14633333, 0.147     , 0.14766667,\n",
       "       0.14833333, 0.149     , 0.14966667, 0.15033333, 0.151     ,\n",
       "       0.15166667, 0.15233333, 0.153     , 0.15366667, 0.15433333,\n",
       "       0.155     , 0.15566667, 0.15633333, 0.157     , 0.15766667,\n",
       "       0.15833333, 0.159     , 0.15966667, 0.16033333, 0.161     ,\n",
       "       0.16166667, 0.16233333, 0.163     , 0.16366667, 0.16433333,\n",
       "       0.165     , 0.16566667, 0.16633333, 0.167     , 0.16766667,\n",
       "       0.16833333, 0.169     , 0.16966667, 0.17033333, 0.171     ,\n",
       "       0.17166667, 0.17233333, 0.173     , 0.17366667, 0.17433333,\n",
       "       0.175     , 0.17566667, 0.17633333, 0.177     , 0.17766667,\n",
       "       0.17833333, 0.179     , 0.17966667, 0.18033333, 0.181     ,\n",
       "       0.18166667, 0.18233333, 0.183     , 0.18366667, 0.18433333,\n",
       "       0.185     , 0.18566667, 0.18633333, 0.187     , 0.18766667,\n",
       "       0.18833333, 0.189     , 0.18966667, 0.19033333, 0.191     ,\n",
       "       0.19166667, 0.19233333, 0.193     , 0.19366667, 0.19433333,\n",
       "       0.195     ])"
      ]
     },
     "execution_count": 75,
     "metadata": {},
     "output_type": "execute_result"
    }
   ],
   "source": [
    "t_mic"
   ]
  },
  {
   "cell_type": "code",
   "execution_count": 76,
   "metadata": {},
   "outputs": [
    {
     "data": {
      "text/plain": [
       "[<matplotlib.lines.Line2D at 0x7f56a421bdd0>]"
      ]
     },
     "execution_count": 76,
     "metadata": {},
     "output_type": "execute_result"
    },
    {
     "data": {
      "image/png": "[encoded data removed]",
      "text/plain": [
       "<Figure size 1152x648 with 1 Axes>"
      ]
     },
     "metadata": {
      "needs_background": "light"
     },
     "output_type": "display_data"
    }
   ],
   "source": [
    "plt.plot(Sxx_mic[40,:])"
   ]
  }
 ],
 "metadata": {
  "kernelspec": {
   "display_name": "Python 3",
   "language": "python",
   "name": "python3"
  },
  "language_info": {
   "codemirror_mode": {
    "name": "ipython",
    "version": 3
   },
   "file_extension": ".py",
   "mimetype": "text/x-python",
   "name": "python",
   "nbconvert_exporter": "python",
   "pygments_lexer": "ipython3",
   "version": "3.7.6"
  }
 },
 "nbformat": 4,
 "nbformat_minor": 4
}
